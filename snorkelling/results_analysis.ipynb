{
 "cells": [
  {
   "cell_type": "code",
   "execution_count": 2,
   "metadata": {},
   "outputs": [],
   "source": [
    "%reload_ext autoreload\n",
    "%autoreload 2\n",
    "import pandas as pd\n",
    "from run_main import run_main\n",
    "from labelling_functions import get_lfs, get_lfs_array"
   ]
  },
  {
   "cell_type": "markdown",
   "metadata": {},
   "source": [
    "## Cross Validation"
   ]
  },
  {
   "cell_type": "code",
   "execution_count": 3,
   "metadata": {},
   "outputs": [
    {
     "name": "stderr",
     "output_type": "stream",
     "text": [
      "100%|██████████| 800/800 [00:07<00:00, 111.70it/s]\n",
      "100%|██████████| 200/200 [00:01<00:00, 114.24it/s]\n",
      "INFO:root:Computing O...\n",
      "INFO:root:Estimating \\mu...\n"
     ]
    },
    {
     "name": "stdout",
     "output_type": "stream",
     "text": [
      "Ground Truth provided\n"
     ]
    },
    {
     "name": "stderr",
     "output_type": "stream",
     "text": [
      "  0%|          | 0/500 [00:00<?, ?epoch/s]INFO:root:[0 epochs]: TRAIN:[loss=2.643]\n",
      "100%|██████████| 500/500 [00:00<00:00, 1199.80epoch/s]\n",
      "INFO:root:Finished Training\n",
      "100%|██████████| 800/800 [00:07<00:00, 106.67it/s]\n",
      "100%|██████████| 200/200 [00:01<00:00, 109.15it/s]\n",
      "INFO:root:Computing O...\n",
      "INFO:root:Estimating \\mu...\n"
     ]
    },
    {
     "name": "stdout",
     "output_type": "stream",
     "text": [
      "Ground Truth provided\n"
     ]
    },
    {
     "name": "stderr",
     "output_type": "stream",
     "text": [
      "  0%|          | 0/500 [00:00<?, ?epoch/s]INFO:root:[0 epochs]: TRAIN:[loss=2.573]\n",
      "100%|██████████| 500/500 [00:00<00:00, 1199.16epoch/s]\n",
      "INFO:root:Finished Training\n",
      "100%|██████████| 800/800 [00:07<00:00, 110.35it/s]\n",
      "100%|██████████| 200/200 [00:01<00:00, 101.76it/s]\n",
      "INFO:root:Computing O...\n",
      "INFO:root:Estimating \\mu...\n"
     ]
    },
    {
     "name": "stdout",
     "output_type": "stream",
     "text": [
      "Ground Truth provided\n"
     ]
    },
    {
     "name": "stderr",
     "output_type": "stream",
     "text": [
      "  0%|          | 0/500 [00:00<?, ?epoch/s]INFO:root:[0 epochs]: TRAIN:[loss=2.548]\n",
      "100%|██████████| 500/500 [00:00<00:00, 1199.87epoch/s]\n",
      "INFO:root:Finished Training\n",
      "100%|██████████| 800/800 [00:07<00:00, 106.91it/s]\n",
      "100%|██████████| 200/200 [00:01<00:00, 105.27it/s]\n",
      "INFO:root:Computing O...\n",
      "INFO:root:Estimating \\mu...\n"
     ]
    },
    {
     "name": "stdout",
     "output_type": "stream",
     "text": [
      "Ground Truth provided\n"
     ]
    },
    {
     "name": "stderr",
     "output_type": "stream",
     "text": [
      "  0%|          | 0/500 [00:00<?, ?epoch/s]INFO:root:[0 epochs]: TRAIN:[loss=2.547]\n",
      "100%|██████████| 500/500 [00:00<00:00, 1201.37epoch/s]\n",
      "INFO:root:Finished Training\n",
      "100%|██████████| 800/800 [00:07<00:00, 103.90it/s]\n",
      "100%|██████████| 200/200 [00:01<00:00, 102.57it/s]\n",
      "INFO:root:Computing O...\n",
      "INFO:root:Estimating \\mu...\n"
     ]
    },
    {
     "name": "stdout",
     "output_type": "stream",
     "text": [
      "Ground Truth provided\n"
     ]
    },
    {
     "name": "stderr",
     "output_type": "stream",
     "text": [
      "  0%|          | 0/500 [00:00<?, ?epoch/s]INFO:root:[0 epochs]: TRAIN:[loss=2.494]\n",
      "100%|██████████| 500/500 [00:00<00:00, 1200.01epoch/s]\n",
      "INFO:root:Finished Training\n"
     ]
    }
   ],
   "source": [
    "training_splits = ['train-test-splits/train.pkl', 'train-test-splits/train_2.pkl', 'train-test-splits/train_3.pkl', 'train-test-splits/train_4.pkl', 'train-test-splits/train_5.pkl']\n",
    "test_splits = ['train-test-splits/test.pkl', 'train-test-splits/test_2.pkl', 'train-test-splits/test_3.pkl', 'train-test-splits/test_4.pkl', 'train-test-splits/test_5.pkl']\n",
    "results = []\n",
    "matrices = []\n",
    "for i in range(len(training_splits)):\n",
    "    result, matrix = run_main(train_pkl=training_splits[i], test_pkl=test_splits[i], options={'ground_truth': True, 'excluded_lfs': []})\n",
    "    results.append(result)\n",
    "    matrices.append(matrix)\n",
    "results = pd.DataFrame(results)"
   ]
  },
  {
   "cell_type": "code",
   "execution_count": 4,
   "metadata": {},
   "outputs": [
    {
     "name": "stdout",
     "output_type": "stream",
     "text": [
      "accuracy     0.794000\n",
      "coverage     1.000000\n",
      "precision    0.703627\n",
      "recall       0.833764\n",
      "f1           0.760462\n",
      "dtype: float64\n",
      "0.13013667818348695\n"
     ]
    },
    {
     "data": {
      "text/html": [
       "<div>\n",
       "<style scoped>\n",
       "    .dataframe tbody tr th:only-of-type {\n",
       "        vertical-align: middle;\n",
       "    }\n",
       "\n",
       "    .dataframe tbody tr th {\n",
       "        vertical-align: top;\n",
       "    }\n",
       "\n",
       "    .dataframe thead th {\n",
       "        text-align: right;\n",
       "    }\n",
       "</style>\n",
       "<table border=\"1\" class=\"dataframe\">\n",
       "  <thead>\n",
       "    <tr style=\"text-align: right;\">\n",
       "      <th></th>\n",
       "      <th>accuracy</th>\n",
       "      <th>coverage</th>\n",
       "      <th>precision</th>\n",
       "      <th>recall</th>\n",
       "      <th>f1</th>\n",
       "    </tr>\n",
       "  </thead>\n",
       "  <tbody>\n",
       "    <tr>\n",
       "      <th>0</th>\n",
       "      <td>0.790</td>\n",
       "      <td>1.0</td>\n",
       "      <td>0.690722</td>\n",
       "      <td>0.848101</td>\n",
       "      <td>0.761364</td>\n",
       "    </tr>\n",
       "    <tr>\n",
       "      <th>1</th>\n",
       "      <td>0.805</td>\n",
       "      <td>1.0</td>\n",
       "      <td>0.727273</td>\n",
       "      <td>0.810127</td>\n",
       "      <td>0.766467</td>\n",
       "    </tr>\n",
       "    <tr>\n",
       "      <th>2</th>\n",
       "      <td>0.810</td>\n",
       "      <td>1.0</td>\n",
       "      <td>0.750000</td>\n",
       "      <td>0.750000</td>\n",
       "      <td>0.750000</td>\n",
       "    </tr>\n",
       "    <tr>\n",
       "      <th>3</th>\n",
       "      <td>0.815</td>\n",
       "      <td>1.0</td>\n",
       "      <td>0.731959</td>\n",
       "      <td>0.865854</td>\n",
       "      <td>0.793296</td>\n",
       "    </tr>\n",
       "    <tr>\n",
       "      <th>4</th>\n",
       "      <td>0.750</td>\n",
       "      <td>1.0</td>\n",
       "      <td>0.618182</td>\n",
       "      <td>0.894737</td>\n",
       "      <td>0.731183</td>\n",
       "    </tr>\n",
       "  </tbody>\n",
       "</table>\n",
       "</div>"
      ],
      "text/plain": [
       "   accuracy  coverage  precision    recall        f1\n",
       "0     0.790       1.0   0.690722  0.848101  0.761364\n",
       "1     0.805       1.0   0.727273  0.810127  0.766467\n",
       "2     0.810       1.0   0.750000  0.750000  0.750000\n",
       "3     0.815       1.0   0.731959  0.865854  0.793296\n",
       "4     0.750       1.0   0.618182  0.894737  0.731183"
      ]
     },
     "execution_count": 4,
     "metadata": {},
     "output_type": "execute_result"
    }
   ],
   "source": [
    "print(results.mean())\n",
    "print(results.mean()['recall'] - results.mean()['precision'])\n",
    "results"
   ]
  },
  {
   "cell_type": "code",
   "execution_count": 5,
   "metadata": {},
   "outputs": [
    {
     "name": "stderr",
     "output_type": "stream",
     "text": [
      "100%|██████████| 800/800 [00:08<00:00, 99.48it/s] \n",
      "100%|██████████| 200/200 [00:01<00:00, 101.18it/s]\n",
      "INFO:root:Computing O...\n",
      "INFO:root:Estimating \\mu...\n"
     ]
    },
    {
     "name": "stdout",
     "output_type": "stream",
     "text": [
      "Ground Truth provided\n"
     ]
    },
    {
     "name": "stderr",
     "output_type": "stream",
     "text": [
      "  0%|          | 0/500 [00:00<?, ?epoch/s]INFO:root:[0 epochs]: TRAIN:[loss=2.643]\n",
      "100%|██████████| 500/500 [00:00<00:00, 1200.06epoch/s]\n",
      "INFO:root:Finished Training\n",
      "100%|██████████| 800/800 [00:08<00:00, 97.66it/s] \n",
      "100%|██████████| 200/200 [00:02<00:00, 99.05it/s] \n",
      "INFO:root:Computing O...\n",
      "INFO:root:Estimating \\mu...\n"
     ]
    },
    {
     "name": "stdout",
     "output_type": "stream",
     "text": [
      "Ground Truth provided\n"
     ]
    },
    {
     "name": "stderr",
     "output_type": "stream",
     "text": [
      "  0%|          | 0/500 [00:00<?, ?epoch/s]INFO:root:[0 epochs]: TRAIN:[loss=2.573]\n",
      "100%|██████████| 500/500 [00:00<00:00, 1153.85epoch/s]\n",
      "INFO:root:Finished Training\n",
      "100%|██████████| 800/800 [00:08<00:00, 95.62it/s] \n",
      "100%|██████████| 200/200 [00:02<00:00, 87.03it/s]\n",
      "INFO:root:Computing O...\n",
      "INFO:root:Estimating \\mu...\n"
     ]
    },
    {
     "name": "stdout",
     "output_type": "stream",
     "text": [
      "Ground Truth provided\n"
     ]
    },
    {
     "name": "stderr",
     "output_type": "stream",
     "text": [
      "  0%|          | 0/500 [00:00<?, ?epoch/s]INFO:root:[0 epochs]: TRAIN:[loss=2.548]\n",
      "100%|██████████| 500/500 [00:00<00:00, 1071.74epoch/s]\n",
      "INFO:root:Finished Training\n",
      "100%|██████████| 800/800 [00:08<00:00, 91.43it/s] \n",
      "100%|██████████| 200/200 [00:02<00:00, 95.22it/s] \n",
      "INFO:root:Computing O...\n",
      "INFO:root:Estimating \\mu...\n"
     ]
    },
    {
     "name": "stdout",
     "output_type": "stream",
     "text": [
      "Ground Truth provided\n"
     ]
    },
    {
     "name": "stderr",
     "output_type": "stream",
     "text": [
      "  0%|          | 0/500 [00:00<?, ?epoch/s]INFO:root:[0 epochs]: TRAIN:[loss=2.547]\n",
      "100%|██████████| 500/500 [00:00<00:00, 1072.44epoch/s]\n",
      "INFO:root:Finished Training\n",
      "100%|██████████| 800/800 [00:08<00:00, 93.03it/s] \n",
      "100%|██████████| 200/200 [00:02<00:00, 93.03it/s]\n",
      "INFO:root:Computing O...\n",
      "INFO:root:Estimating \\mu...\n"
     ]
    },
    {
     "name": "stdout",
     "output_type": "stream",
     "text": [
      "Ground Truth provided\n"
     ]
    },
    {
     "name": "stderr",
     "output_type": "stream",
     "text": [
      "  0%|          | 0/500 [00:00<?, ?epoch/s]INFO:root:[0 epochs]: TRAIN:[loss=2.494]\n",
      "100%|██████████| 500/500 [00:00<00:00, 1068.74epoch/s]\n",
      "INFO:root:Finished Training\n"
     ]
    }
   ],
   "source": [
    "training_splits = ['train-test-splits/train.pkl', 'train-test-splits/train_2.pkl', 'train-test-splits/train_3.pkl', 'train-test-splits/train_4.pkl', 'train-test-splits/train_5.pkl']\n",
    "test_splits = ['train-test-splits/test.pkl', 'train-test-splits/test_2.pkl', 'train-test-splits/test_3.pkl', 'train-test-splits/test_4.pkl', 'train-test-splits/test_5.pkl']\n",
    "results2 = []\n",
    "matrices = []\n",
    "for i in range(len(training_splits)):\n",
    "    result, matrix = run_main(train_pkl=training_splits[i], test_pkl=test_splits[i], options={'ground_truth': True, 'excluded_lfs': []})\n",
    "    results2.append(result)\n",
    "    matrices.append(matrix)\n",
    "results2 = pd.DataFrame(results2)"
   ]
  },
  {
   "cell_type": "code",
   "execution_count": 6,
   "metadata": {},
   "outputs": [
    {
     "data": {
      "text/html": [
       "<div>\n",
       "<style scoped>\n",
       "    .dataframe tbody tr th:only-of-type {\n",
       "        vertical-align: middle;\n",
       "    }\n",
       "\n",
       "    .dataframe tbody tr th {\n",
       "        vertical-align: top;\n",
       "    }\n",
       "\n",
       "    .dataframe thead th {\n",
       "        text-align: right;\n",
       "    }\n",
       "</style>\n",
       "<table border=\"1\" class=\"dataframe\">\n",
       "  <thead>\n",
       "    <tr style=\"text-align: right;\">\n",
       "      <th></th>\n",
       "      <th>accuracy</th>\n",
       "      <th>coverage</th>\n",
       "      <th>precision</th>\n",
       "      <th>recall</th>\n",
       "      <th>f1</th>\n",
       "    </tr>\n",
       "  </thead>\n",
       "  <tbody>\n",
       "    <tr>\n",
       "      <th>0</th>\n",
       "      <td>0.790</td>\n",
       "      <td>1.0</td>\n",
       "      <td>0.690722</td>\n",
       "      <td>0.848101</td>\n",
       "      <td>0.761364</td>\n",
       "    </tr>\n",
       "    <tr>\n",
       "      <th>1</th>\n",
       "      <td>0.805</td>\n",
       "      <td>1.0</td>\n",
       "      <td>0.727273</td>\n",
       "      <td>0.810127</td>\n",
       "      <td>0.766467</td>\n",
       "    </tr>\n",
       "    <tr>\n",
       "      <th>2</th>\n",
       "      <td>0.810</td>\n",
       "      <td>1.0</td>\n",
       "      <td>0.750000</td>\n",
       "      <td>0.750000</td>\n",
       "      <td>0.750000</td>\n",
       "    </tr>\n",
       "    <tr>\n",
       "      <th>3</th>\n",
       "      <td>0.815</td>\n",
       "      <td>1.0</td>\n",
       "      <td>0.731959</td>\n",
       "      <td>0.865854</td>\n",
       "      <td>0.793296</td>\n",
       "    </tr>\n",
       "    <tr>\n",
       "      <th>4</th>\n",
       "      <td>0.750</td>\n",
       "      <td>1.0</td>\n",
       "      <td>0.618182</td>\n",
       "      <td>0.894737</td>\n",
       "      <td>0.731183</td>\n",
       "    </tr>\n",
       "  </tbody>\n",
       "</table>\n",
       "</div>"
      ],
      "text/plain": [
       "   accuracy  coverage  precision    recall        f1\n",
       "0     0.790       1.0   0.690722  0.848101  0.761364\n",
       "1     0.805       1.0   0.727273  0.810127  0.766467\n",
       "2     0.810       1.0   0.750000  0.750000  0.750000\n",
       "3     0.815       1.0   0.731959  0.865854  0.793296\n",
       "4     0.750       1.0   0.618182  0.894737  0.731183"
      ]
     },
     "execution_count": 6,
     "metadata": {},
     "output_type": "execute_result"
    }
   ],
   "source": [
    "results2"
   ]
  },
  {
   "cell_type": "markdown",
   "metadata": {},
   "source": [
    "## Ablation Study"
   ]
  },
  {
   "cell_type": "code",
   "execution_count": 7,
   "metadata": {},
   "outputs": [
    {
     "name": "stderr",
     "output_type": "stream",
     "text": [
      "100%|██████████| 800/800 [00:00<00:00, 2572.13it/s]\n",
      "100%|██████████| 200/200 [00:00<00:00, 2417.60it/s]\n",
      "INFO:root:Computing O...\n",
      "INFO:root:Estimating \\mu...\n"
     ]
    },
    {
     "name": "stdout",
     "output_type": "stream",
     "text": [
      "Ground Truth not provided\n"
     ]
    },
    {
     "name": "stderr",
     "output_type": "stream",
     "text": [
      "  0%|          | 0/500 [00:00<?, ?epoch/s]INFO:root:[0 epochs]: TRAIN:[loss=0.600]\n",
      "100%|██████████| 500/500 [00:00<00:00, 1099.01epoch/s]\n",
      "INFO:root:Finished Training\n",
      "100%|██████████| 800/800 [00:00<00:00, 2838.03it/s]\n",
      "100%|██████████| 200/200 [00:00<00:00, 3198.12it/s]\n",
      "INFO:root:Computing O...\n",
      "INFO:root:Estimating \\mu...\n"
     ]
    },
    {
     "name": "stdout",
     "output_type": "stream",
     "text": [
      "Ground Truth not provided\n"
     ]
    },
    {
     "name": "stderr",
     "output_type": "stream",
     "text": [
      "  0%|          | 0/500 [00:00<?, ?epoch/s]INFO:root:[0 epochs]: TRAIN:[loss=0.597]\n",
      "100%|██████████| 500/500 [00:00<00:00, 1061.99epoch/s]\n",
      "INFO:root:Finished Training\n",
      "100%|██████████| 800/800 [00:00<00:00, 3011.73it/s]\n",
      "100%|██████████| 200/200 [00:00<00:00, 3227.84it/s]\n",
      "INFO:root:Computing O...\n",
      "INFO:root:Estimating \\mu...\n"
     ]
    },
    {
     "name": "stdout",
     "output_type": "stream",
     "text": [
      "Ground Truth not provided\n"
     ]
    },
    {
     "name": "stderr",
     "output_type": "stream",
     "text": [
      "  0%|          | 0/500 [00:00<?, ?epoch/s]INFO:root:[0 epochs]: TRAIN:[loss=0.603]\n",
      "100%|██████████| 500/500 [00:00<00:00, 1210.30epoch/s]\n",
      "INFO:root:Finished Training\n",
      "100%|██████████| 800/800 [00:00<00:00, 3011.23it/s]\n",
      "100%|██████████| 200/200 [00:00<00:00, 2560.19it/s]\n",
      "INFO:root:Computing O...\n",
      "INFO:root:Estimating \\mu...\n"
     ]
    },
    {
     "name": "stdout",
     "output_type": "stream",
     "text": [
      "Ground Truth not provided\n"
     ]
    },
    {
     "name": "stderr",
     "output_type": "stream",
     "text": [
      "  0%|          | 0/500 [00:00<?, ?epoch/s]INFO:root:[0 epochs]: TRAIN:[loss=0.588]\n",
      "100%|██████████| 500/500 [00:00<00:00, 1189.09epoch/s]\n",
      "INFO:root:Finished Training\n",
      "100%|██████████| 800/800 [00:00<00:00, 2844.14it/s]\n",
      "100%|██████████| 200/200 [00:00<00:00, 3200.01it/s]\n",
      "INFO:root:Computing O...\n",
      "INFO:root:Estimating \\mu...\n"
     ]
    },
    {
     "name": "stdout",
     "output_type": "stream",
     "text": [
      "Ground Truth not provided\n"
     ]
    },
    {
     "name": "stderr",
     "output_type": "stream",
     "text": [
      "  0%|          | 0/500 [00:00<?, ?epoch/s]INFO:root:[0 epochs]: TRAIN:[loss=0.582]\n",
      "100%|██████████| 500/500 [00:00<00:00, 1207.86epoch/s]\n",
      "INFO:root:Finished Training\n"
     ]
    },
    {
     "name": "stdout",
     "output_type": "stream",
     "text": [
      "accuracy     0.706000\n",
      "coverage     1.000000\n",
      "precision    0.576448\n",
      "recall       0.969406\n",
      "f1           0.722292\n",
      "dtype: float64\n"
     ]
    },
    {
     "data": {
      "text/html": [
       "<div>\n",
       "<style scoped>\n",
       "    .dataframe tbody tr th:only-of-type {\n",
       "        vertical-align: middle;\n",
       "    }\n",
       "\n",
       "    .dataframe tbody tr th {\n",
       "        vertical-align: top;\n",
       "    }\n",
       "\n",
       "    .dataframe thead th {\n",
       "        text-align: right;\n",
       "    }\n",
       "</style>\n",
       "<table border=\"1\" class=\"dataframe\">\n",
       "  <thead>\n",
       "    <tr style=\"text-align: right;\">\n",
       "      <th></th>\n",
       "      <th>accuracy</th>\n",
       "      <th>coverage</th>\n",
       "      <th>precision</th>\n",
       "      <th>recall</th>\n",
       "      <th>f1</th>\n",
       "    </tr>\n",
       "  </thead>\n",
       "  <tbody>\n",
       "    <tr>\n",
       "      <th>0</th>\n",
       "      <td>0.70</td>\n",
       "      <td>1.0</td>\n",
       "      <td>0.57</td>\n",
       "      <td>0.95</td>\n",
       "      <td>0.71</td>\n",
       "    </tr>\n",
       "    <tr>\n",
       "      <th>1</th>\n",
       "      <td>0.74</td>\n",
       "      <td>1.0</td>\n",
       "      <td>0.60</td>\n",
       "      <td>0.97</td>\n",
       "      <td>0.74</td>\n",
       "    </tr>\n",
       "    <tr>\n",
       "      <th>2</th>\n",
       "      <td>0.77</td>\n",
       "      <td>1.0</td>\n",
       "      <td>0.62</td>\n",
       "      <td>0.99</td>\n",
       "      <td>0.77</td>\n",
       "    </tr>\n",
       "    <tr>\n",
       "      <th>3</th>\n",
       "      <td>0.70</td>\n",
       "      <td>1.0</td>\n",
       "      <td>0.58</td>\n",
       "      <td>0.98</td>\n",
       "      <td>0.73</td>\n",
       "    </tr>\n",
       "    <tr>\n",
       "      <th>4</th>\n",
       "      <td>0.62</td>\n",
       "      <td>1.0</td>\n",
       "      <td>0.50</td>\n",
       "      <td>0.96</td>\n",
       "      <td>0.66</td>\n",
       "    </tr>\n",
       "  </tbody>\n",
       "</table>\n",
       "</div>"
      ],
      "text/plain": [
       "   accuracy  coverage  precision  recall    f1\n",
       "0      0.70       1.0       0.57    0.95  0.71\n",
       "1      0.74       1.0       0.60    0.97  0.74\n",
       "2      0.77       1.0       0.62    0.99  0.77\n",
       "3      0.70       1.0       0.58    0.98  0.73\n",
       "4      0.62       1.0       0.50    0.96  0.66"
      ]
     },
     "execution_count": 7,
     "metadata": {},
     "output_type": "execute_result"
    }
   ],
   "source": [
    "training_splits = ['train-test-splits/train.pkl', 'train-test-splits/train_2.pkl', 'train-test-splits/train_3.pkl', 'train-test-splits/train_4.pkl', 'train-test-splits/train_5.pkl']\n",
    "test_splits = ['train-test-splits/test.pkl', 'train-test-splits/test_2.pkl', 'train-test-splits/test_3.pkl', 'train-test-splits/test_4.pkl', 'train-test-splits/test_5.pkl']\n",
    "results = []\n",
    "matrices = []\n",
    "# excluded_lfs = ['pronoun_usage']\n",
    "# excluded_lfs = ['scambait_in_title_or_desc']\n",
    "excluded_lfs = [x.name for x in get_lfs_array()]\n",
    "included_lfs = ['scambait_in_title_or_desc', 'scammer_in_title_or_desc', 'two_hellos']\n",
    "excluded_lfs = list(filter(lambda x: x not in included_lfs, excluded_lfs))\n",
    "for i in range(len(training_splits)):\n",
    "    result, matrix = run_main(train_pkl=training_splits[i], test_pkl=test_splits[i], options = {'ground_truth': False, 'excluded_lfs':excluded_lfs})\n",
    "    results.append(result)\n",
    "    matrices.append(matrix)\n",
    "results = pd.DataFrame(results)\n",
    "print(results.mean())\n",
    "results.round(2)"
   ]
  },
  {
   "cell_type": "markdown",
   "metadata": {},
   "source": [
    "## MTurk study"
   ]
  },
  {
   "cell_type": "markdown",
   "metadata": {},
   "source": [
    "### Formatting MTurk Results"
   ]
  },
  {
   "cell_type": "code",
   "execution_count": 8,
   "metadata": {},
   "outputs": [],
   "source": [
    "def get_label(x: pd.Series):\n",
    "    label = pd.NA\n",
    "    if x.gt(1).any():\n",
    "        label = x[x.gt(1)].index[0]\n",
    "    return label"
   ]
  },
  {
   "cell_type": "code",
   "execution_count": 9,
   "metadata": {},
   "outputs": [
    {
     "name": "stdout",
     "output_type": "stream",
     "text": [
      "C:/Users/flynn/Source/thesis2/\n"
     ]
    },
    {
     "data": {
      "text/html": [
       "<div>\n",
       "<style scoped>\n",
       "    .dataframe tbody tr th:only-of-type {\n",
       "        vertical-align: middle;\n",
       "    }\n",
       "\n",
       "    .dataframe tbody tr th {\n",
       "        vertical-align: top;\n",
       "    }\n",
       "\n",
       "    .dataframe thead th {\n",
       "        text-align: right;\n",
       "    }\n",
       "</style>\n",
       "<table border=\"1\" class=\"dataframe\">\n",
       "  <thead>\n",
       "    <tr style=\"text-align: right;\">\n",
       "      <th></th>\n",
       "      <th>Answer.is-a-call.most</th>\n",
       "      <th>Answer.is-a-call.some</th>\n",
       "      <th>Answer.is-a-call.none</th>\n",
       "      <th>label</th>\n",
       "    </tr>\n",
       "    <tr>\n",
       "      <th>Input.video_id</th>\n",
       "      <th></th>\n",
       "      <th></th>\n",
       "      <th></th>\n",
       "      <th></th>\n",
       "    </tr>\n",
       "  </thead>\n",
       "  <tbody>\n",
       "    <tr>\n",
       "      <th>-8bsioNfZhk</th>\n",
       "      <td>0</td>\n",
       "      <td>0</td>\n",
       "      <td>3</td>\n",
       "      <td>Answer.is-a-call.none</td>\n",
       "    </tr>\n",
       "    <tr>\n",
       "      <th>-E1Q2i6nM98</th>\n",
       "      <td>0</td>\n",
       "      <td>0</td>\n",
       "      <td>3</td>\n",
       "      <td>Answer.is-a-call.none</td>\n",
       "    </tr>\n",
       "    <tr>\n",
       "      <th>-Rr1dtMHjdQ</th>\n",
       "      <td>0</td>\n",
       "      <td>0</td>\n",
       "      <td>3</td>\n",
       "      <td>Answer.is-a-call.none</td>\n",
       "    </tr>\n",
       "    <tr>\n",
       "      <th>-Vv6Uoe7GcI</th>\n",
       "      <td>3</td>\n",
       "      <td>0</td>\n",
       "      <td>0</td>\n",
       "      <td>Answer.is-a-call.most</td>\n",
       "    </tr>\n",
       "    <tr>\n",
       "      <th>-YXufbEPXDA</th>\n",
       "      <td>0</td>\n",
       "      <td>0</td>\n",
       "      <td>3</td>\n",
       "      <td>Answer.is-a-call.none</td>\n",
       "    </tr>\n",
       "    <tr>\n",
       "      <th>...</th>\n",
       "      <td>...</td>\n",
       "      <td>...</td>\n",
       "      <td>...</td>\n",
       "      <td>...</td>\n",
       "    </tr>\n",
       "    <tr>\n",
       "      <th>zfy-uc3zGWQ</th>\n",
       "      <td>1</td>\n",
       "      <td>0</td>\n",
       "      <td>1</td>\n",
       "      <td>&lt;NA&gt;</td>\n",
       "    </tr>\n",
       "    <tr>\n",
       "      <th>zjnOFBSLtz0</th>\n",
       "      <td>1</td>\n",
       "      <td>1</td>\n",
       "      <td>1</td>\n",
       "      <td>&lt;NA&gt;</td>\n",
       "    </tr>\n",
       "    <tr>\n",
       "      <th>ztbvfH4wbrQ</th>\n",
       "      <td>3</td>\n",
       "      <td>0</td>\n",
       "      <td>0</td>\n",
       "      <td>Answer.is-a-call.most</td>\n",
       "    </tr>\n",
       "    <tr>\n",
       "      <th>ztpnb3XkS88</th>\n",
       "      <td>0</td>\n",
       "      <td>0</td>\n",
       "      <td>2</td>\n",
       "      <td>Answer.is-a-call.none</td>\n",
       "    </tr>\n",
       "    <tr>\n",
       "      <th>zxQgquwSUyA</th>\n",
       "      <td>2</td>\n",
       "      <td>0</td>\n",
       "      <td>0</td>\n",
       "      <td>Answer.is-a-call.most</td>\n",
       "    </tr>\n",
       "  </tbody>\n",
       "</table>\n",
       "<p>951 rows × 4 columns</p>\n",
       "</div>"
      ],
      "text/plain": [
       "                Answer.is-a-call.most  Answer.is-a-call.some  \\\n",
       "Input.video_id                                                 \n",
       "-8bsioNfZhk                         0                      0   \n",
       "-E1Q2i6nM98                         0                      0   \n",
       "-Rr1dtMHjdQ                         0                      0   \n",
       "-Vv6Uoe7GcI                         3                      0   \n",
       "-YXufbEPXDA                         0                      0   \n",
       "...                               ...                    ...   \n",
       "zfy-uc3zGWQ                         1                      0   \n",
       "zjnOFBSLtz0                         1                      1   \n",
       "ztbvfH4wbrQ                         3                      0   \n",
       "ztpnb3XkS88                         0                      0   \n",
       "zxQgquwSUyA                         2                      0   \n",
       "\n",
       "                Answer.is-a-call.none                  label  \n",
       "Input.video_id                                                \n",
       "-8bsioNfZhk                         3  Answer.is-a-call.none  \n",
       "-E1Q2i6nM98                         3  Answer.is-a-call.none  \n",
       "-Rr1dtMHjdQ                         3  Answer.is-a-call.none  \n",
       "-Vv6Uoe7GcI                         0  Answer.is-a-call.most  \n",
       "-YXufbEPXDA                         3  Answer.is-a-call.none  \n",
       "...                               ...                    ...  \n",
       "zfy-uc3zGWQ                         1                   <NA>  \n",
       "zjnOFBSLtz0                         1                   <NA>  \n",
       "ztbvfH4wbrQ                         0  Answer.is-a-call.most  \n",
       "ztpnb3XkS88                         2  Answer.is-a-call.none  \n",
       "zxQgquwSUyA                         0  Answer.is-a-call.most  \n",
       "\n",
       "[951 rows x 4 columns]"
      ]
     },
     "execution_count": 9,
     "metadata": {},
     "output_type": "execute_result"
    }
   ],
   "source": [
    "from mongo_class import Mongo\n",
    "with Mongo(db_name='annotations', collection_name='mturk-annotations') as mturk_mongo:\n",
    "    mturk_df = pd.DataFrame(list(mturk_mongo.collection.find({})))\n",
    "with Mongo(db_name='videos', collection_name='ground-truth') as gt_mongo:\n",
    "    gt_df = pd.DataFrame(list(gt_mongo.collection.find({})))\n",
    "\n",
    "mturk_df = mturk_df[~mturk_df['Input.video_id'].isin(gt_df['video_id'])]\n",
    "mturk_df = mturk_df[~mturk_df['RejectionTime'].notna()]\n",
    "mturk_labels = mturk_df.groupby('Input.video_id')[[\"Answer.is-a-call.most\", \"Answer.is-a-call.some\", \"Answer.is-a-call.none\"]].sum()\n",
    "mturk_labels['label'] = mturk_labels[[\"Answer.is-a-call.most\", \"Answer.is-a-call.some\", \"Answer.is-a-call.none\"]].apply(get_label, axis=1)\n",
    "mturk_labels"
   ]
  },
  {
   "cell_type": "code",
   "execution_count": 10,
   "metadata": {},
   "outputs": [],
   "source": [
    "new_labels = {}\n",
    "for idx, row in mturk_labels[mturk_labels['label'].isna()].iterrows():\n",
    "    worker_sum = {}\n",
    "    for idx2, worker in mturk_df[mturk_df['Input.video_id'].eq(idx)]['WorkerId'].items():\n",
    "        worker_labels = mturk_df[mturk_df['WorkerId'].eq(worker)]\n",
    "        worker_sum[worker] = 0\n",
    "        for idx3, row2 in worker_labels.iterrows():\n",
    "            w_label = row2[[\"Answer.is-a-call.most\", \"Answer.is-a-call.some\", \"Answer.is-a-call.none\"]][row2[[\"Answer.is-a-call.most\", \"Answer.is-a-call.some\", \"Answer.is-a-call.none\"]]].index[0]\n",
    "            if mturk_labels.loc[row2['Input.video_id']][w_label] > 1:\n",
    "                worker_sum[worker] += 1\n",
    "    final_worker = None\n",
    "    for key in worker_sum.keys():\n",
    "        if final_worker == None or worker_sum[final_worker] < worker_sum[key]:\n",
    "            final_worker = key\n",
    "    final_row = mturk_df[mturk_df['Input.video_id'].eq(idx)].iloc[0]\n",
    "    if final_row[\"Answer.is-a-call.most\"]:\n",
    "        new_labels[idx] = \"Answer.is-a-call.most\"\n",
    "    elif final_row[\"Answer.is-a-call.some\"]:\n",
    "        new_labels[idx] = \"Answer.is-a-call.some\"\n",
    "    else:\n",
    "        new_labels[idx] = \"Answer.is-a-call.none\"\n",
    "for key in new_labels:\n",
    "    mturk_labels.loc[key, 'label'] = new_labels[key]\n"
   ]
  },
  {
   "cell_type": "code",
   "execution_count": 11,
   "metadata": {},
   "outputs": [],
   "source": [
    "with Mongo(db_name='videos', collection_name='all') as vids_mongo:\n",
    "    vids_df  = pd.DataFrame(list(vids_mongo.collection.find({})))\n",
    "dataset = vids_df[vids_df['video_id'].isin(mturk_labels.index)]\n",
    "dataset = dataset.reset_index(drop=True)\n",
    "dataset.loc[:, 'label'] = dataset['video_id'].apply(lambda x: mturk_labels.loc[x, 'label'].replace('Answer.is-a-call.', ''))\n",
    "dataset['transcription'] = pd.NA"
   ]
  },
  {
   "cell_type": "code",
   "execution_count": 12,
   "metadata": {},
   "outputs": [],
   "source": [
    "dataset['label'] = dataset['label'].apply(lambda x: 1 if x == 'most' else 0)"
   ]
  },
  {
   "cell_type": "markdown",
   "metadata": {},
   "source": [
    "### Create Dataset"
   ]
  },
  {
   "cell_type": "code",
   "execution_count": 13,
   "metadata": {},
   "outputs": [],
   "source": [
    "mturk_training = dataset.sample(n=750, random_state=42069)\n",
    "mturk_testing = dataset.drop(mturk_training.index)\n",
    "mturk_training2 = dataset.sample(n=750, random_state=9875)\n",
    "mturk_testing2 = dataset.drop(mturk_training2.index)\n",
    "mturk_training3 = dataset.sample(n=750, random_state=6274)\n",
    "mturk_testing3 = dataset.drop(mturk_training3.index)"
   ]
  },
  {
   "cell_type": "markdown",
   "metadata": {},
   "source": [
    "### Applying labels to Snorkel"
   ]
  },
  {
   "cell_type": "code",
   "execution_count": 26,
   "metadata": {},
   "outputs": [
    {
     "name": "stderr",
     "output_type": "stream",
     "text": [
      "100%|██████████| 750/750 [00:00<00:00, 4255.06it/s]\n",
      "100%|██████████| 201/201 [00:00<00:00, 4410.99it/s]\n",
      "INFO:root:Computing O...\n",
      "INFO:root:Estimating \\mu...\n"
     ]
    },
    {
     "name": "stdout",
     "output_type": "stream",
     "text": [
      "Ground Truth not provided\n"
     ]
    },
    {
     "name": "stderr",
     "output_type": "stream",
     "text": [
      "  0%|          | 0/500 [00:00<?, ?epoch/s]INFO:root:[0 epochs]: TRAIN:[loss=0.861]\n",
      "100%|██████████| 500/500 [00:00<00:00, 1085.70epoch/s]\n",
      "INFO:root:Finished Training\n"
     ]
    },
    {
     "name": "stdout",
     "output_type": "stream",
     "text": [
      "{'accuracy': 0.7263681592039801, 'coverage': 1.0, 'precision': 0.7115384615384616, 'recall': 0.7474747474747475, 'f1': 0.7290640394088671}\n"
     ]
    },
    {
     "name": "stderr",
     "output_type": "stream",
     "text": [
      "100%|██████████| 750/750 [00:00<00:00, 4387.71it/s]\n",
      "100%|██████████| 201/201 [00:00<00:00, 4536.73it/s]\n",
      "INFO:root:Computing O...\n",
      "INFO:root:Estimating \\mu...\n"
     ]
    },
    {
     "name": "stdout",
     "output_type": "stream",
     "text": [
      "Ground Truth not provided\n"
     ]
    },
    {
     "name": "stderr",
     "output_type": "stream",
     "text": [
      "  0%|          | 0/500 [00:00<?, ?epoch/s]INFO:root:[0 epochs]: TRAIN:[loss=0.830]\n",
      "100%|██████████| 500/500 [00:00<00:00, 1135.92epoch/s]\n",
      "INFO:root:Finished Training\n"
     ]
    },
    {
     "name": "stdout",
     "output_type": "stream",
     "text": [
      "{'accuracy': 0.7114427860696517, 'coverage': 1.0, 'precision': 0.7310924369747899, 'recall': 0.7699115044247787, 'f1': 0.75}\n"
     ]
    },
    {
     "name": "stderr",
     "output_type": "stream",
     "text": [
      "100%|██████████| 750/750 [00:00<00:00, 4500.03it/s]\n",
      "100%|██████████| 201/201 [00:00<00:00, 3669.84it/s]\n",
      "INFO:root:Computing O...\n",
      "INFO:root:Estimating \\mu...\n"
     ]
    },
    {
     "name": "stdout",
     "output_type": "stream",
     "text": [
      "Ground Truth not provided\n"
     ]
    },
    {
     "name": "stderr",
     "output_type": "stream",
     "text": [
      "  0%|          | 0/500 [00:00<?, ?epoch/s]INFO:root:[0 epochs]: TRAIN:[loss=0.847]\n",
      "100%|██████████| 500/500 [00:00<00:00, 1200.73epoch/s]\n",
      "INFO:root:Finished Training\n"
     ]
    },
    {
     "name": "stdout",
     "output_type": "stream",
     "text": [
      "{'accuracy': 0.7661691542288557, 'coverage': 1.0, 'precision': 0.7884615384615384, 'recall': 0.7663551401869159, 'f1': 0.7772511848341231}\n"
     ]
    },
    {
     "name": "stderr",
     "output_type": "stream",
     "text": [
      "100%|██████████| 750/750 [00:00<00:00, 3787.99it/s]\n",
      "100%|██████████| 201/201 [00:00<00:00, 5063.67it/s]\n",
      "INFO:root:Computing O...\n",
      "INFO:root:Estimating \\mu...\n"
     ]
    },
    {
     "name": "stdout",
     "output_type": "stream",
     "text": [
      "Ground Truth provided\n"
     ]
    },
    {
     "name": "stderr",
     "output_type": "stream",
     "text": [
      "  0%|          | 0/500 [00:00<?, ?epoch/s]INFO:root:[0 epochs]: TRAIN:[loss=0.901]\n",
      "100%|██████████| 500/500 [00:00<00:00, 1227.14epoch/s]\n",
      "INFO:root:Finished Training\n"
     ]
    },
    {
     "name": "stdout",
     "output_type": "stream",
     "text": [
      "{'accuracy': 0.7412935323383084, 'coverage': 1.0, 'precision': 0.719626168224299, 'recall': 0.7777777777777778, 'f1': 0.7475728155339805}\n"
     ]
    },
    {
     "name": "stderr",
     "output_type": "stream",
     "text": [
      "100%|██████████| 750/750 [00:00<00:00, 4042.69it/s]\n",
      "100%|██████████| 201/201 [00:00<00:00, 4112.99it/s]\n",
      "INFO:root:Computing O...\n",
      "INFO:root:Estimating \\mu...\n"
     ]
    },
    {
     "name": "stdout",
     "output_type": "stream",
     "text": [
      "Ground Truth provided\n"
     ]
    },
    {
     "name": "stderr",
     "output_type": "stream",
     "text": [
      "  0%|          | 0/500 [00:00<?, ?epoch/s]INFO:root:[0 epochs]: TRAIN:[loss=0.852]\n",
      "100%|██████████| 500/500 [00:00<00:00, 1146.93epoch/s]\n",
      "INFO:root:Finished Training\n"
     ]
    },
    {
     "name": "stdout",
     "output_type": "stream",
     "text": [
      "{'accuracy': 0.7164179104477612, 'coverage': 1.0, 'precision': 0.7333333333333333, 'recall': 0.7787610619469026, 'f1': 0.7553648068669528}\n"
     ]
    },
    {
     "name": "stderr",
     "output_type": "stream",
     "text": [
      "100%|██████████| 750/750 [00:00<00:00, 4206.90it/s]\n",
      "100%|██████████| 201/201 [00:00<00:00, 4103.74it/s]\n",
      "INFO:root:Computing O...\n",
      "INFO:root:Estimating \\mu...\n"
     ]
    },
    {
     "name": "stdout",
     "output_type": "stream",
     "text": [
      "Ground Truth provided\n"
     ]
    },
    {
     "name": "stderr",
     "output_type": "stream",
     "text": [
      "  0%|          | 0/500 [00:00<?, ?epoch/s]INFO:root:[0 epochs]: TRAIN:[loss=0.877]\n",
      "100%|██████████| 500/500 [00:00<00:00, 879.10epoch/s]\n",
      "INFO:root:Finished Training\n"
     ]
    },
    {
     "name": "stdout",
     "output_type": "stream",
     "text": [
      "{'accuracy': 0.7661691542288557, 'coverage': 1.0, 'precision': 0.7884615384615384, 'recall': 0.7663551401869159, 'f1': 0.7772511848341231}\n"
     ]
    },
    {
     "data": {
      "text/html": [
       "<div>\n",
       "<style scoped>\n",
       "    .dataframe tbody tr th:only-of-type {\n",
       "        vertical-align: middle;\n",
       "    }\n",
       "\n",
       "    .dataframe tbody tr th {\n",
       "        vertical-align: top;\n",
       "    }\n",
       "\n",
       "    .dataframe thead th {\n",
       "        text-align: right;\n",
       "    }\n",
       "</style>\n",
       "<table border=\"1\" class=\"dataframe\">\n",
       "  <thead>\n",
       "    <tr style=\"text-align: right;\">\n",
       "      <th></th>\n",
       "      <th>accuracy</th>\n",
       "      <th>coverage</th>\n",
       "      <th>precision</th>\n",
       "      <th>recall</th>\n",
       "      <th>f1</th>\n",
       "    </tr>\n",
       "  </thead>\n",
       "  <tbody>\n",
       "    <tr>\n",
       "      <th>without_ground_truth</th>\n",
       "      <td>0.734660</td>\n",
       "      <td>1.0</td>\n",
       "      <td>0.743697</td>\n",
       "      <td>0.761247</td>\n",
       "      <td>0.752105</td>\n",
       "    </tr>\n",
       "    <tr>\n",
       "      <th>with_ground_truth</th>\n",
       "      <td>0.741294</td>\n",
       "      <td>1.0</td>\n",
       "      <td>0.747140</td>\n",
       "      <td>0.774298</td>\n",
       "      <td>0.760063</td>\n",
       "    </tr>\n",
       "  </tbody>\n",
       "</table>\n",
       "</div>"
      ],
      "text/plain": [
       "                      accuracy  coverage  precision    recall        f1\n",
       "without_ground_truth  0.734660       1.0   0.743697  0.761247  0.752105\n",
       "with_ground_truth     0.741294       1.0   0.747140  0.774298  0.760063"
      ]
     },
     "execution_count": 26,
     "metadata": {},
     "output_type": "execute_result"
    }
   ],
   "source": [
    "result, matrix = run_main(train_pd=mturk_training, test_pd=mturk_testing, options={'ground_truth': False, 'excluded_lfs': [], 'create_label_column': False})\n",
    "print(result)\n",
    "result2, matrix2 = run_main(train_pd=mturk_training2, test_pd=mturk_testing2, options={'ground_truth': False, 'excluded_lfs': [], 'create_label_column': False})\n",
    "print(result2)\n",
    "result3, matrix3 = run_main(train_pd=mturk_training3, test_pd=mturk_testing3, options={'ground_truth': False, 'excluded_lfs': [], 'create_label_column': False})\n",
    "print(result3)\n",
    "mturk_results = pd.DataFrame([result, result2, result3]).mean().transpose()\n",
    "result, matrix = run_main(train_pd=mturk_training, test_pd=mturk_testing, options={'ground_truth': True, 'excluded_lfs': [], 'create_label_column': False})\n",
    "print(result)\n",
    "result2, matrix2 = run_main(train_pd=mturk_training2, test_pd=mturk_testing2, options={'ground_truth': True, 'excluded_lfs': [], 'create_label_column': False})\n",
    "print(result2)\n",
    "result3, matrix3 = run_main(train_pd=mturk_training3, test_pd=mturk_testing3, options={'ground_truth': True, 'excluded_lfs': [], 'create_label_column': False})\n",
    "print(result3)\n",
    "mturk_results = pd.DataFrame([mturk_results, pd.DataFrame([result, result2, result3]).mean()])\n",
    "mturk_results.index = ['without_ground_truth', 'with_ground_truth']\n",
    "mturk_results.to_latex('temp.tex', float_format=\"%.2f\")\n",
    "mturk_results"
   ]
  },
  {
   "cell_type": "markdown",
   "metadata": {},
   "source": [
    "## Finding Agreement for Me vs Mturk"
   ]
  },
  {
   "cell_type": "code",
   "execution_count": 15,
   "metadata": {},
   "outputs": [],
   "source": [
    "ABSTAIN = -1\n",
    "CALL = 1\n",
    "NOTCALL = 0\n",
    "def create_label_column(df: pd.DataFrame):\n",
    "    df = df.copy(deep=True)\n",
    "    # df[\"label\"] = df[\"Answer_is-a-call_most\"].apply(lambda x: CALL if x else NOTCALL)\n",
    "    df[\"label\"] = df[\"Answer_is-a-call_most\"].apply(lambda x: CALL if x else NOTCALL)\n",
    "    return df"
   ]
  },
  {
   "cell_type": "code",
   "execution_count": 16,
   "metadata": {},
   "outputs": [
    {
     "data": {
      "text/plain": [
       "0.7615262321144673"
      ]
     },
     "execution_count": 16,
     "metadata": {},
     "output_type": "execute_result"
    }
   ],
   "source": [
    "from sklearn.metrics import cohen_kappa_score\n",
    "with Mongo(db_name='annotations', collection_name='self-annotated-2') as sa_mongo:\n",
    "    sa_df = pd.DataFrame(list(sa_mongo.collection.find({})))\n",
    "sa_df = create_label_column(sa_df)\n",
    "merged = pd.merge(sa_df, dataset, left_on='Input_video_id', right_on='video_id', how='inner', suffixes=('_sa', '_mt'))\n",
    "merged[merged['label_sa'] != merged['label_mt']].columns\n",
    "cohen_kappa_score(merged['label_sa'], merged['label_mt'])"
   ]
  },
  {
   "cell_type": "markdown",
   "metadata": {},
   "source": [
    "## Convert to tex"
   ]
  },
  {
   "cell_type": "code",
   "execution_count": 17,
   "metadata": {},
   "outputs": [],
   "source": [
    "results.round(2).to_latex('temp.tex', float_format=\"%.2f\")"
   ]
  }
 ],
 "metadata": {
  "kernelspec": {
   "display_name": "thesis-OswdbzR4",
   "language": "python",
   "name": "python3"
  },
  "language_info": {
   "codemirror_mode": {
    "name": "ipython",
    "version": 3
   },
   "file_extension": ".py",
   "mimetype": "text/x-python",
   "name": "python",
   "nbconvert_exporter": "python",
   "pygments_lexer": "ipython3",
   "version": "3.10.11"
  }
 },
 "nbformat": 4,
 "nbformat_minor": 2
}
