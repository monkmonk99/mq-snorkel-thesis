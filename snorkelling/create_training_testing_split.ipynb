{
 "cells": [
  {
   "cell_type": "code",
   "execution_count": 3,
   "metadata": {},
   "outputs": [],
   "source": [
    "import pandas as pd\n",
    "import sys\n",
    "sys.path.append('../')\n",
    "from mongo_class import Mongo\n",
    "from format_diarization import format_diarization"
   ]
  },
  {
   "cell_type": "code",
   "execution_count": 5,
   "metadata": {},
   "outputs": [],
   "source": [
    "# Enable the cells which will overwrite the existing training and testing files\n",
    "overwrite = False"
   ]
  },
  {
   "cell_type": "markdown",
   "metadata": {},
   "source": [
    "## Get the dataframes from mongo"
   ]
  },
  {
   "cell_type": "code",
   "execution_count": 6,
   "metadata": {},
   "outputs": [],
   "source": [
    "with Mongo(db_name='annotations', collection_name='self-annotated-2') as annotations:\n",
    "    annotations_pd = pd.DataFrame(list(annotations.collection.find()))\n",
    "with Mongo(db_name='videos', collection_name='all') as video_data:\n",
    "    data_pd = pd.DataFrame(list(video_data.collection.find()))\n",
    "with Mongo(db_name='videos', collection_name='diarization') as diarizations:\n",
    "    diarizations_pd = pd.DataFrame(list(diarizations.collection.find()))\n",
    "with Mongo(db_name='annotations', collection_name='mturk-annotations') as mturk_annotations:\n",
    "    mturk_pd = pd.DataFrame(list(mturk_annotations.collection.find()))\n",
    "fields_to_keep = [\"Input_video_id\", \"Answer_is-a-call_most\", \"Answer_is-a-call_some\", \"Answer_is-a-call_none\"]\n",
    "data_pd = data_pd.merge(annotations_pd[fields_to_keep], how='inner', left_on='video_id', right_on='Input_video_id', suffixes=('', '_y'))\n",
    "data_pd['transcription'] = data_pd['video_id'].apply(lambda x: format_diarization(diarizations_pd[diarizations_pd['video_id'] == x]['diarization'].values[0]) if diarizations_pd['video_id'].str.contains(x).any() else pd.NA)\n",
    "data_pd['transcription_block'] = data_pd['transcription'].apply(lambda x: ' '.join([y['text'] for y in x]) if x is not pd.NA else pd.NA)\n",
    "data_pd_orig = data_pd.copy()"
   ]
  },
  {
   "cell_type": "markdown",
   "metadata": {},
   "source": [
    "## Output Dataframes to pkl"
   ]
  },
  {
   "cell_type": "code",
   "execution_count": 7,
   "metadata": {},
   "outputs": [],
   "source": [
    "if overwrite:\n",
    "    # split data into train, dev, test\n",
    "    train = data_pd.sample(frac=0.8, random_state=42)\n",
    "    #train['label'] = np.ones(len(train))*-1\n",
    "    test = data_pd.drop(train.index)\n",
    "    train.to_pickle('train.pkl')\n",
    "    test.to_pickle('test.pkl')"
   ]
  },
  {
   "cell_type": "markdown",
   "metadata": {},
   "source": [
    "## Create a different rotation of the training/testing split"
   ]
  },
  {
   "cell_type": "code",
   "execution_count": 10,
   "metadata": {},
   "outputs": [],
   "source": [
    "train: pd.DataFrame = pd.read_pickle('train-test-splits/train.pkl')\n",
    "test: pd.DataFrame = pd.read_pickle('train-test-splits/test.pkl')\n",
    "all = pd.concat([train, test])"
   ]
  },
  {
   "cell_type": "code",
   "execution_count": 11,
   "metadata": {},
   "outputs": [],
   "source": [
    "# create training and testing files, looping through each 200 block\n",
    "test_split_so_far = test.copy(deep=True)\n",
    "while len(test_split_so_far) < 1000:\n",
    "    new_test = all[~all['video_id'].isin(test_split_so_far['video_id'])].sample(n=200, random_state=42)\n",
    "    test_split_so_far = pd.concat([test_split_so_far, new_test])\n",
    "    new_train = all[~all['video_id'].isin(new_test['video_id'])]\n",
    "    new_train.to_pickle('train-test-splits/train_{}.pkl'.format(int(len(test_split_so_far)/200)))\n",
    "    new_test.to_pickle('train-test-splits/test_{}.pkl'.format(int(len(test_split_so_far)/200)))\n"
   ]
  }
 ],
 "metadata": {
  "kernelspec": {
   "display_name": "thesis-OswdbzR4",
   "language": "python",
   "name": "python3"
  },
  "language_info": {
   "codemirror_mode": {
    "name": "ipython",
    "version": 3
   },
   "file_extension": ".py",
   "mimetype": "text/x-python",
   "name": "python",
   "nbconvert_exporter": "python",
   "pygments_lexer": "ipython3",
   "version": "3.10.12"
  }
 },
 "nbformat": 4,
 "nbformat_minor": 2
}
